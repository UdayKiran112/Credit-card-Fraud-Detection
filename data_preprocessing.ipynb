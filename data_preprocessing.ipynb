{
 "cells": [
  {
   "cell_type": "code",
   "execution_count": 1,
   "metadata": {},
   "outputs": [],
   "source": [
    "import pandas as pd\n",
    "import numpy as np\n",
    "from sklearn.preprocessing import StandardScaler\n",
    "from sklearn.model_selection import train_test_split\n",
    "from imblearn.over_sampling import SMOTE\n",
    "import os\n",
    "import pickle\n",
    "import kaggle"
   ]
  },
  {
   "cell_type": "code",
   "execution_count": 2,
   "metadata": {},
   "outputs": [],
   "source": [
    "# Set the path for the dataset folder\n",
    "folder = 'dataset'\n",
    "os.makedirs(folder, exist_ok=True)\n",
    "dataset_file = os.path.join(folder, 'creditcard.csv')"
   ]
  },
  {
   "cell_type": "code",
   "execution_count": 3,
   "metadata": {},
   "outputs": [
    {
     "name": "stdout",
     "output_type": "stream",
     "text": [
      "Dataset not found. Downloading...\n",
      "Dataset URL: https://www.kaggle.com/datasets/mlg-ulb/creditcardfraud\n"
     ]
    }
   ],
   "source": [
    "# Check if the dataset already exists\n",
    "if not os.path.exists(dataset_file):\n",
    "    # Dataset not found, proceed with download\n",
    "    print(\"Dataset not found. Downloading...\")\n",
    "    kaggle.api.dataset_download_files('mlg-ulb/creditcardfraud', path=folder, unzip=True)\n",
    "else:\n",
    "    print(\"Dataset already exists.\")"
   ]
  },
  {
   "cell_type": "code",
   "execution_count": 4,
   "metadata": {},
   "outputs": [],
   "source": [
    "# Function to load and preprocess data\n",
    "def preprocess_data(data_path):\n",
    "    \"\"\"\n",
    "    Loads and preprocesses the dataset, performs SMOTE oversampling, \n",
    "    and splits into train, validation, and test sets.\n",
    "\n",
    "    Parameters:\n",
    "        data_path (str): Path to the raw dataset.\n",
    "\n",
    "    Returns:\n",
    "        dict: A dictionary containing training, validation, and testing splits.\n",
    "    \"\"\"\n",
    "    # Load dataset\n",
    "    data = pd.read_csv(data_path)\n",
    "\n",
    "    # Check for missing values\n",
    "    if data.isnull().sum().sum() > 0:\n",
    "        print(\"Warning: Dataset contains missing values. Filling with mean.\")\n",
    "        data = data.fillna(data.mean())\n",
    "\n",
    "    # Feature scaling for 'Amount' and 'Time'\n",
    "    scaler = StandardScaler()\n",
    "    data[\"scaled_amount\"] = scaler.fit_transform(data[\"Amount\"].values.reshape(-1, 1))\n",
    "    data[\"scaled_time\"] = scaler.fit_transform(data[\"Time\"].values.reshape(-1, 1))\n",
    "    data = data.drop([\"Amount\", \"Time\"], axis=1)\n",
    "\n",
    "    # Split features and target\n",
    "    X = data.drop(\"Class\", axis=1)\n",
    "    y = data[\"Class\"]\n",
    "\n",
    "    # Handle imbalanced data using SMOTE\n",
    "    smote = SMOTE(random_state=42)\n",
    "    X, y = smote.fit_resample(X, y)\n",
    "\n",
    "    # Train-test split with stratification\n",
    "    X_train, X_test, y_train, y_test = train_test_split(\n",
    "        X, y, test_size=0.3, random_state=42, stratify=y\n",
    "    )\n",
    "\n",
    "    # Train-validation split from the training set\n",
    "    X_train, X_val, y_train, y_val = train_test_split(\n",
    "        X_train, y_train, test_size=0.2, random_state=42, stratify=y_train\n",
    "    )\n",
    "\n",
    "    # Return the data splits\n",
    "    return {\n",
    "        \"X\":X,\n",
    "        \"Y\":y,\n",
    "        \"X_train\": X_train,\n",
    "        \"X_val\": X_val,\n",
    "        \"X_test\": X_test,\n",
    "        \"y_train\": y_train,\n",
    "        \"y_val\": y_val,\n",
    "        \"y_test\": y_test,\n",
    "    }\n"
   ]
  },
  {
   "cell_type": "code",
   "execution_count": 5,
   "metadata": {},
   "outputs": [],
   "source": [
    "\n",
    "# Function to save data splits as .pkl files\n",
    "def save_splits(data_splits, save_dir):\n",
    "    \"\"\"\n",
    "    Saves the data splits as .pkl files.\n",
    "\n",
    "    Parameters:\n",
    "        data_splits (dict): Dictionary containing data splits.\n",
    "        save_dir (str): Directory to save the .pkl files.\n",
    "    \"\"\"\n",
    "    os.makedirs(save_dir, exist_ok=True)\n",
    "    for key, value in data_splits.items():\n",
    "        file_path = os.path.join(save_dir, f\"{key}.pkl\")\n",
    "        with open(file_path, \"wb\") as f:\n",
    "            pickle.dump(value, f)\n",
    "    print(f\"Data splits saved as .pkl files in directory: {save_dir}\")"
   ]
  },
  {
   "cell_type": "code",
   "execution_count": 6,
   "metadata": {},
   "outputs": [],
   "source": [
    "# Function to load data splits from .pkl files\n",
    "def load_splits(save_dir):\n",
    "    \"\"\"\n",
    "    Loads the data splits from .pkl files.\n",
    "\n",
    "    Parameters:\n",
    "        save_dir (str): Directory containing the .pkl files.\n",
    "\n",
    "    Returns:\n",
    "        dict: Dictionary containing the loaded data splits.\n",
    "    \"\"\"\n",
    "    data_splits = {}\n",
    "    for file_name in os.listdir(save_dir):\n",
    "        if file_name.endswith(\".pkl\"):\n",
    "            key = file_name.split(\".pkl\")[0]\n",
    "            file_path = os.path.join(save_dir, file_name)\n",
    "            with open(file_path, \"rb\") as f:\n",
    "                data_splits[key] = pickle.load(f)\n",
    "    print(f\"Data splits loaded from .pkl files in directory: {save_dir}\")\n",
    "    return data_splits\n"
   ]
  },
  {
   "cell_type": "code",
   "execution_count": 7,
   "metadata": {},
   "outputs": [
    {
     "name": "stdout",
     "output_type": "stream",
     "text": [
      "Preprocessing data...\n"
     ]
    },
    {
     "name": "stderr",
     "output_type": "stream",
     "text": [
      "/home/myth/miniconda3/envs/gpu_env/lib/python3.9/site-packages/sklearn/base.py:474: FutureWarning: `BaseEstimator._validate_data` is deprecated in 1.6 and will be removed in 1.7. Use `sklearn.utils.validation.validate_data` instead. This function becomes public and is part of the scikit-learn developer API.\n",
      "  warnings.warn(\n"
     ]
    },
    {
     "name": "stdout",
     "output_type": "stream",
     "text": [
      "Data splits saved as .pkl files in directory: dataset/splits_pkl\n",
      "Data splits loaded from .pkl files in directory: dataset/splits_pkl\n",
      "Data preprocessing and saving/loading completed successfully.\n"
     ]
    }
   ],
   "source": [
    "# Example Usage\n",
    "if __name__ == \"__main__\":\n",
    "    # Paths to dataset and saving directory\n",
    "    raw_data_path = \"dataset/creditcard.csv\"\n",
    "    save_dir = \"dataset/splits_pkl\"\n",
    "\n",
    "    # Preprocess the data\n",
    "    try:\n",
    "        print(\"Preprocessing data...\")\n",
    "        data_splits = preprocess_data(raw_data_path)\n",
    "\n",
    "        # Save data splits as .pkl files\n",
    "        save_splits(data_splits, save_dir)\n",
    "\n",
    "        # Load splits for later use\n",
    "        loaded_data_splits = load_splits(save_dir)\n",
    "\n",
    "        # Access loaded data\n",
    "        X_train = loaded_data_splits[\"X_train\"]\n",
    "        X_val = loaded_data_splits[\"X_val\"]\n",
    "        X_test = loaded_data_splits[\"X_test\"]\n",
    "        y_train = loaded_data_splits[\"y_train\"]\n",
    "        y_val = loaded_data_splits[\"y_val\"]\n",
    "        y_test = loaded_data_splits[\"y_test\"]\n",
    "\n",
    "        print(\"Data preprocessing and saving/loading completed successfully.\")\n",
    "\n",
    "    except FileNotFoundError as e:\n",
    "        print(e)"
   ]
  },
  {
   "cell_type": "code",
   "execution_count": null,
   "metadata": {},
   "outputs": [],
   "source": []
  }
 ],
 "metadata": {
  "kernelspec": {
   "display_name": "gpu_env",
   "language": "python",
   "name": "python3"
  },
  "language_info": {
   "codemirror_mode": {
    "name": "ipython",
    "version": 3
   },
   "file_extension": ".py",
   "mimetype": "text/x-python",
   "name": "python",
   "nbconvert_exporter": "python",
   "pygments_lexer": "ipython3",
   "version": "3.9.21"
  }
 },
 "nbformat": 4,
 "nbformat_minor": 2
}
