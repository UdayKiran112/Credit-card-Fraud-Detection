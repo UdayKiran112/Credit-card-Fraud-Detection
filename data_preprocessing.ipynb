{
 "cells": [
  {
   "cell_type": "code",
   "execution_count": 1,
   "metadata": {},
   "outputs": [],
   "source": [
    "import pandas as pd\n",
    "import numpy as np\n",
    "from sklearn.preprocessing import StandardScaler\n",
    "from sklearn.model_selection import train_test_split\n",
    "import os\n",
    "import kaggle\n",
    "from imblearn.over_sampling import SMOTE"
   ]
  },
  {
   "cell_type": "code",
   "execution_count": 2,
   "metadata": {},
   "outputs": [],
   "source": [
    "# Set the path for the dataset folder\n",
    "folder = 'dataset'\n",
    "os.makedirs(folder, exist_ok=True)\n",
    "dataset_file = os.path.join(folder, 'creditcard.csv')"
   ]
  },
  {
   "cell_type": "code",
   "execution_count": 3,
   "metadata": {},
   "outputs": [
    {
     "name": "stdout",
     "output_type": "stream",
     "text": [
      "Dataset already exists.\n"
     ]
    }
   ],
   "source": [
    "# Check if the dataset already exists\n",
    "if not os.path.exists(dataset_file):\n",
    "    # Dataset not found, proceed with download\n",
    "    print(\"Dataset not found. Downloading...\")\n",
    "    kaggle.api.dataset_download_files('mlg-ulb/creditcardfraud', path=folder, unzip=True)\n",
    "else:\n",
    "    print(\"Dataset already exists.\")"
   ]
  },
  {
   "cell_type": "code",
   "execution_count": 4,
   "metadata": {},
   "outputs": [],
   "source": [
    "# Function to load and preprocess data\n",
    "def preprocess_data(data_path, save_path=None):\n",
    "    \"\"\"\n",
    "    Loads and preprocesses the dataset for training.\n",
    "\n",
    "    Parameters:\n",
    "        data_path (str): Path to the raw dataset.\n",
    "        save_path (str, optional): Path to save the preprocessed dataset. Default is None.\n",
    "\n",
    "    Returns:\n",
    "        X_train, X_test, y_train, y_test: Preprocessed and split data.\n",
    "    \"\"\"\n",
    "\n",
    "    # Load dataset\n",
    "    data = pd.read_csv(data_path)\n",
    "\n",
    "    # Check for missing values\n",
    "    if data.isnull().sum().sum() > 0:\n",
    "        print(\"Warning: Dataset contains missing values. Filling with mean.\")\n",
    "        data = data.fillna(data.mean())\n",
    "\n",
    "    # Feature scaling for 'Amount' and 'Time'\n",
    "    scaler = StandardScaler()\n",
    "    data[\"scaled_amount\"] = scaler.fit_transform(data[\"Amount\"].values.reshape(-1, 1))\n",
    "    data[\"scaled_time\"] = scaler.fit_transform(data[\"Time\"].values.reshape(-1, 1))\n",
    "    data = data.drop([\"Amount\", \"Time\"], axis=1)\n",
    "\n",
    "    # Split features and target\n",
    "    X = data.drop(\"Class\", axis=1)\n",
    "    y = data[\"Class\"]\n",
    "\n",
    "    #Handling Imbalanced Data\n",
    "    smote = SMOTE(random_state=42)\n",
    "    X, y = smote.fit_resample(X, y)\n",
    "\n",
    "    # Train-test split with stratification\n",
    "    X_train, X_test, y_train, y_test = train_test_split(\n",
    "        X, y, test_size=0.3, random_state=42, stratify=y\n",
    "    )\n",
    "\n",
    "    # Save preprocessed dataset if save_path is provided\n",
    "    if save_path:\n",
    "        preprocessed_data = pd.concat([X, y], axis=1)\n",
    "        preprocessed_data.to_csv(save_path, index=False)\n",
    "        print(f\"Preprocessed dataset saved at {save_path}\")\n",
    "\n",
    "    return X_train, X_test, y_train, y_test"
   ]
  },
  {
   "cell_type": "code",
   "execution_count": 5,
   "metadata": {},
   "outputs": [
    {
     "name": "stdout",
     "output_type": "stream",
     "text": [
      "Preprocessed dataset saved at dataset/processed_data.csv\n",
      "Data preprocessing completed successfully.\n"
     ]
    },
    {
     "ename": "",
     "evalue": "",
     "output_type": "error",
     "traceback": [
      "\u001b[1;31mThe Kernel crashed while executing code in the current cell or a previous cell. \n",
      "\u001b[1;31mPlease review the code in the cell(s) to identify a possible cause of the failure. \n",
      "\u001b[1;31mClick <a href='https://aka.ms/vscodeJupyterKernelCrash'>here</a> for more info. \n",
      "\u001b[1;31mView Jupyter <a href='command:jupyter.viewOutput'>log</a> for further details."
     ]
    }
   ],
   "source": [
    "# Example Usage\n",
    "if __name__ == \"__main__\":\n",
    "    # Paths to dataset\n",
    "    raw_data_path = \"dataset/creditcard.csv\"  # Update with actual dataset path\n",
    "    preprocessed_data_path = \"dataset/processed_data.csv\"\n",
    "\n",
    "    # Preprocess the data\n",
    "    try:\n",
    "        X_train, X_test, y_train, y_test = preprocess_data(raw_data_path, save_path=preprocessed_data_path)\n",
    "        print(\"Data preprocessing completed successfully.\")\n",
    "    except FileNotFoundError as e:\n",
    "        print(e)"
   ]
  },
  {
   "cell_type": "code",
   "execution_count": null,
   "metadata": {},
   "outputs": [],
   "source": []
  }
 ],
 "metadata": {
  "kernelspec": {
   "display_name": "gpu_env",
   "language": "python",
   "name": "python3"
  },
  "language_info": {
   "codemirror_mode": {
    "name": "ipython",
    "version": 3
   },
   "file_extension": ".py",
   "mimetype": "text/x-python",
   "name": "python",
   "nbconvert_exporter": "python",
   "pygments_lexer": "ipython3",
   "version": "3.9.20"
  }
 },
 "nbformat": 4,
 "nbformat_minor": 2
}
