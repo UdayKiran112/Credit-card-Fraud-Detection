{
 "cells": [
  {
   "cell_type": "code",
   "execution_count": 1,
   "metadata": {},
   "outputs": [],
   "source": [
    "import os\n",
    "import pickle\n",
    "import pandas as pd\n",
    "import numpy as np\n",
    "import xgboost as xgb\n",
    "from sklearn.model_selection import StratifiedKFold, GridSearchCV\n",
    "from sklearn.metrics import classification_report, confusion_matrix, roc_curve, roc_auc_score\n",
    "import matplotlib.pyplot as plt\n",
    "import joblib"
   ]
  },
  {
   "cell_type": "code",
   "execution_count": 2,
   "metadata": {},
   "outputs": [],
   "source": [
    "# Suppress unimportant warnings\n",
    "import warnings\n",
    "warnings.filterwarnings('ignore', category=UserWarning)"
   ]
  },
  {
   "cell_type": "code",
   "execution_count": 3,
   "metadata": {},
   "outputs": [],
   "source": [
    "\n",
    "# Load preprocessed data splits from .pkl files\n",
    "def load_splits(save_dir):\n",
    "    \"\"\"\n",
    "    Loads the data splits from .pkl files.\n",
    "\n",
    "    Parameters:\n",
    "        save_dir (str): Directory containing the .pkl files.\n",
    "\n",
    "    Returns:\n",
    "        dict: Dictionary containing the loaded data splits.\n",
    "    \"\"\"\n",
    "    data_splits = {}\n",
    "    for file_name in os.listdir(save_dir):\n",
    "        if file_name.endswith(\".pkl\"):\n",
    "            key = file_name.split(\".pkl\")[0]\n",
    "            file_path = os.path.join(save_dir, file_name)\n",
    "            with open(file_path, \"rb\") as f:\n",
    "                data_splits[key] = pickle.load(f)\n",
    "    print(f\"Data splits loaded from .pkl files in directory: {save_dir}\")\n",
    "    return data_splits"
   ]
  },
  {
   "cell_type": "code",
   "execution_count": 4,
   "metadata": {},
   "outputs": [],
   "source": [
    "# Set the path for the dataset folder\n",
    "folder = '../dataset'\n",
    "os.makedirs(folder, exist_ok=True)\n",
    "dataset_file = os.path.join(folder, 'creditcard.csv')"
   ]
  },
  {
   "cell_type": "code",
   "execution_count": 5,
   "metadata": {},
   "outputs": [],
   "source": [
    "\n",
    "# Directory for the preprocessed data\n",
    "processed_data_dir = \"../dataset/splits_pkl\"\n",
    "\n"
   ]
  },
  {
   "cell_type": "code",
   "execution_count": 6,
   "metadata": {},
   "outputs": [
    {
     "name": "stdout",
     "output_type": "stream",
     "text": [
      "Data splits loaded from .pkl files in directory: ../dataset/splits_pkl\n"
     ]
    }
   ],
   "source": [
    "# Load data splits\n",
    "data_splits = load_splits(processed_data_dir)"
   ]
  },
  {
   "cell_type": "code",
   "execution_count": 7,
   "metadata": {},
   "outputs": [],
   "source": [
    "# Access loaded data splits\n",
    "X = data_splits[\"X\"]\n",
    "y = data_splits[\"Y\"]\n",
    "X_train = data_splits[\"X_train\"]\n",
    "X_val = data_splits[\"X_val\"]\n",
    "X_test = data_splits[\"X_test\"]\n",
    "y_train = data_splits[\"y_train\"]\n",
    "y_val = data_splits[\"y_val\"]\n",
    "y_test = data_splits[\"y_test\"]\n"
   ]
  },
  {
   "cell_type": "code",
   "execution_count": 8,
   "metadata": {},
   "outputs": [],
   "source": [
    "# Convert the dataset into DMatrix (internal format used by XGBoost)\n",
    "dtrain = xgb.DMatrix(X_train, label=y_train)\n",
    "dval = xgb.DMatrix(X_val, label=y_val)\n",
    "dtest = xgb.DMatrix(X_test, label=y_test)"
   ]
  },
  {
   "cell_type": "code",
   "execution_count": 9,
   "metadata": {},
   "outputs": [],
   "source": [
    "# Define XGBoost parameters with class_weight adjustment for imbalance\n",
    "params = {\n",
    "    'objective': 'binary:logistic',\n",
    "    'eval_metric': 'logloss',\n",
    "    'tree_method': 'hist',  # Use GPU-accelerated histogram-based method\n",
    "    'predictor': 'gpu_predictor',  # Use GPU for prediction\n",
    "    'gpu_id': 0,  # Use the first GPU (if you have multiple)\n",
    "    'scale_pos_weight': np.sum(y_train == 0) / np.sum(y_train == 1)  # Handling class imbalance\n",
    "}"
   ]
  },
  {
   "cell_type": "code",
   "execution_count": 10,
   "metadata": {},
   "outputs": [],
   "source": [
    "# Perform Hyperparameter Tuning using GridSearchCV\n",
    "param_grid = {\n",
    "    'max_depth': [3, 6, 10],\n",
    "    'learning_rate': [0.01, 0.1, 0.3],\n",
    "    'n_estimators': [50, 100, 200],\n",
    "    'subsample': [0.8, 1.0],\n",
    "    'colsample_bytree': [0.8, 1.0]\n",
    "}"
   ]
  },
  {
   "cell_type": "code",
   "execution_count": 11,
   "metadata": {},
   "outputs": [],
   "source": [
    "# Initialize the model\n",
    "xgb_model = xgb.XGBClassifier(tree_method='hist', predictor='gpu_predictor', gpu_id=0)"
   ]
  },
  {
   "cell_type": "code",
   "execution_count": 12,
   "metadata": {},
   "outputs": [
    {
     "name": "stdout",
     "output_type": "stream",
     "text": [
      "Fitting 5 folds for each of 108 candidates, totalling 540 fits\n"
     ]
    }
   ],
   "source": [
    "# Use StratifiedKFold for balanced cross-validation\n",
    "cv = StratifiedKFold(n_splits=5, shuffle=True, random_state=42)\n",
    "\n",
    "grid_search = GridSearchCV(estimator=xgb_model, param_grid=param_grid, cv=cv, scoring='accuracy', verbose=2, n_jobs=-1)\n",
    "grid_search.fit(X_train, y_train)\n",
    "\n",
    "# Print the best parameters from GridSearchCV\n",
    "print(f\"Best parameters from GridSearchCV: {grid_search.best_params_}\")"
   ]
  },
  {
   "cell_type": "code",
   "execution_count": 13,
   "metadata": {},
   "outputs": [],
   "source": [
    "# Train the model with the best parameters\n",
    "best_model = grid_search.best_estimator_"
   ]
  },
  {
   "cell_type": "code",
   "execution_count": 14,
   "metadata": {},
   "outputs": [],
   "source": [
    "# Make predictions\n",
    "y_train_pred_proba = best_model.predict_proba(X_train)[:, 1]\n",
    "y_val_pred_proba = best_model.predict_proba(X_val)[:, 1]\n",
    "y_test_pred_proba = best_model.predict_proba(X_test)[:, 1]"
   ]
  },
  {
   "cell_type": "code",
   "execution_count": 15,
   "metadata": {},
   "outputs": [],
   "source": [
    "# Convert predictions to binary values (fraud or not)\n",
    "y_train_pred = [1 if prob > 0.5 else 0 for prob in y_train_pred_proba]\n",
    "y_val_pred = [1 if prob > 0.5 else 0 for prob in y_val_pred_proba]\n",
    "y_test_pred = [1 if prob > 0.5 else 0 for prob in y_test_pred_proba]\n"
   ]
  },
  {
   "cell_type": "code",
   "execution_count": null,
   "metadata": {},
   "outputs": [],
   "source": [
    "# Evaluation Metrics\n",
    "def evaluate_model(y_true, y_pred, y_pred_proba, model_name):\n",
    "    print(f\"\\n{model_name} Performance:\")\n",
    "    print(classification_report(y_true, y_pred))\n",
    "    cm = confusion_matrix(y_true, y_pred)\n",
    "    print(\"Confusion Matrix:\")\n",
    "    print(cm)\n",
    "    # ROC Curve\n",
    "    fpr, tpr, _ = roc_curve(y_true, y_pred_proba)\n",
    "    plt.plot(fpr, tpr, label=f'{model_name} ROC Curve')\n",
    "    plt.xlabel('False Positive Rate')\n",
    "    plt.ylabel('True Positive Rate')\n",
    "    plt.title(f'{model_name} ROC Curve')\n",
    "    plt.legend()\n",
    "    plt.show()\n",
    "    # ROC-AUC Score\n",
    "    roc_auc = roc_auc_score(y_true, y_pred_proba)\n",
    "    print(f\"{model_name} ROC-AUC: {roc_auc:.4f}\")\n",
    "    return roc_auc"
   ]
  },
  {
   "cell_type": "code",
   "execution_count": null,
   "metadata": {},
   "outputs": [],
   "source": [
    "# Evaluate XGBoost on Training, Validation, and Test Sets\n",
    "print(\"Evaluating on Training Set:\")\n",
    "train_roc_auc = evaluate_model(y_train, y_train_pred, y_train_pred_proba, \"XGBoost (Train)\")"
   ]
  },
  {
   "cell_type": "code",
   "execution_count": null,
   "metadata": {},
   "outputs": [],
   "source": [
    "print(\"Evaluating on Validation Set:\")\n",
    "val_roc_auc = evaluate_model(y_val, y_val_pred, y_val_pred_proba, \"XGBoost (Validation)\")"
   ]
  },
  {
   "cell_type": "code",
   "execution_count": null,
   "metadata": {},
   "outputs": [],
   "source": [
    "print(\"Evaluating on Test Set:\")\n",
    "test_roc_auc = evaluate_model(y_test, y_test_pred, y_test_pred_proba, \"XGBoost (Test)\")\n"
   ]
  },
  {
   "cell_type": "code",
   "execution_count": null,
   "metadata": {},
   "outputs": [],
   "source": [
    "# Plot feature importance\n",
    "xgb.plot_importance(best_model, max_num_features=10, importance_type='weight', title=\"Top 10 Features by Importance\")\n",
    "plt.show()\n"
   ]
  },
  {
   "cell_type": "code",
   "execution_count": null,
   "metadata": {},
   "outputs": [],
   "source": [
    "# Check for Overfitting\n",
    "if abs(train_roc_auc - val_roc_auc) < 0.05 and abs(val_roc_auc - test_roc_auc) < 0.05:\n",
    "    print(\"The model is not overfitting. The performance on the training, validation, and test sets is consistent.\")\n",
    "else:\n",
    "    print(\"Warning: Potential Overfitting detected! Performance varies significantly across sets.\")"
   ]
  },
  {
   "cell_type": "code",
   "execution_count": null,
   "metadata": {},
   "outputs": [],
   "source": [
    "# Save the Model\n",
    "joblib.dump(best_model, '../Models/fraud_detection_xgboost_model.pkl')"
   ]
  }
 ],
 "metadata": {
  "kernelspec": {
   "display_name": "gpu_env",
   "language": "python",
   "name": "python3"
  },
  "language_info": {
   "codemirror_mode": {
    "name": "ipython",
    "version": 3
   },
   "file_extension": ".py",
   "mimetype": "text/x-python",
   "name": "python",
   "nbconvert_exporter": "python",
   "pygments_lexer": "ipython3",
   "version": "3.9.20"
  }
 },
 "nbformat": 4,
 "nbformat_minor": 2
}
