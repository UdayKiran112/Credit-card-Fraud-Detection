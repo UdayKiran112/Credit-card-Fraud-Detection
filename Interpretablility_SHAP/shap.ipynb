{
 "cells": [
  {
   "cell_type": "code",
   "execution_count": 1,
   "metadata": {},
   "outputs": [
    {
     "name": "stderr",
     "output_type": "stream",
     "text": [
      "d:\\Anaconda\\envs\\gpu_env\\lib\\site-packages\\tqdm\\auto.py:21: TqdmWarning: IProgress not found. Please update jupyter and ipywidgets. See https://ipywidgets.readthedocs.io/en/stable/user_install.html\n",
      "  from .autonotebook import tqdm as notebook_tqdm\n"
     ]
    }
   ],
   "source": [
    "import shap\n",
    "import joblib\n",
    "import pickle\n",
    "import matplotlib.pyplot as plt\n",
    "import os"
   ]
  },
  {
   "cell_type": "code",
   "execution_count": 2,
   "metadata": {},
   "outputs": [],
   "source": [
    "def generate_shap_explanations(model, X, output_dir=\"shap_visualizations\"):\n",
    "    \"\"\"\n",
    "    Generates SHAP explanations for the model and saves visualizations.\n",
    "\n",
    "    Parameters:\n",
    "        model: Trained model (e.g., XGBoost, RandomForest).\n",
    "        X: Feature matrix (DataFrame or array).\n",
    "        output_dir: Directory to save SHAP visualizations.\n",
    "\n",
    "    Returns:\n",
    "        shap_values: Computed SHAP values for the dataset.\n",
    "    \"\"\"\n",
    "    os.makedirs(output_dir, exist_ok=True)\n",
    "\n",
    "    # Use TreeExplainer for tree-based models\n",
    "    explainer = shap.TreeExplainer(model)\n",
    "    shap_values = explainer.shap_values(X)\n",
    "\n",
    "    # Summary Plot\n",
    "    shap.summary_plot(shap_values, X, show=False)\n",
    "    summary_path = os.path.join(output_dir, \"summary_plot.png\")\n",
    "    plt.savefig(summary_path, bbox_inches=\"tight\")\n",
    "    plt.clf()  # Clear the plot for the next visualization\n",
    "\n",
    "    # Feature Importance Plot\n",
    "    shap.summary_plot(shap_values, X, plot_type=\"bar\", show=False)\n",
    "    importance_path = os.path.join(output_dir, \"feature_importance.png\")\n",
    "    plt.savefig(importance_path, bbox_inches=\"tight\")\n",
    "    plt.clf()\n",
    "\n",
    "    print(f\"SHAP visualizations saved in {output_dir}\")\n",
    "    return shap_values\n"
   ]
  },
  {
   "cell_type": "code",
   "execution_count": 3,
   "metadata": {},
   "outputs": [],
   "source": [
    "def generate_force_plot_html(model, X_sample, shap_values, output_file=\"shap_visualizations/force_plot.html\"):\n",
    "    \"\"\"\n",
    "    Generates an interactive SHAP force plot and saves it as an HTML file.\n",
    "\n",
    "    Parameters:\n",
    "        model: Trained model (e.g., XGBoost, RandomForest).\n",
    "        X_sample: A single sample (DataFrame row) from the dataset.\n",
    "        shap_values: SHAP values corresponding to the sample.\n",
    "        output_file: File path to save the interactive force plot.\n",
    "    \"\"\"\n",
    "    explainer = shap.TreeExplainer(model)\n",
    "\n",
    "    # Generate the force plot\n",
    "    force_plot = shap.force_plot(\n",
    "        base_value=explainer.expected_value,\n",
    "        shap_values=shap_values,\n",
    "        features=X_sample,\n",
    "        matplotlib=False\n",
    "    )\n",
    "\n",
    "    # Save the force plot as an HTML file\n",
    "    shap.save_html(output_file, force_plot)\n",
    "    print(f\"Force plot saved to {output_file}\")"
   ]
  },
  {
   "cell_type": "code",
   "execution_count": 4,
   "metadata": {},
   "outputs": [],
   "source": [
    "def generate_dependence_plot(feature, shap_values, X, output_file=\"shap_visualizations/dependence_plot.png\"):\n",
    "    \"\"\"\n",
    "    Generates a dependence plot for a specified feature and saves it as an image.\n",
    "\n",
    "    Parameters:\n",
    "        feature: The feature name for which the dependence plot is generated.\n",
    "        shap_values: SHAP values corresponding to the dataset.\n",
    "        X: Feature matrix (DataFrame or array).\n",
    "        output_file: File path to save the dependence plot.\n",
    "    \"\"\"\n",
    "    plt.figure(figsize=(12, 8))  # Adjust size for better visibility\n",
    "    shap.dependence_plot(feature, shap_values, X, show=False)\n",
    "    plt.savefig(output_file, bbox_inches=\"tight\")\n",
    "    plt.close()\n",
    "    print(f\"Dependence plot saved to {output_file}\")"
   ]
  },
  {
   "cell_type": "code",
   "execution_count": 5,
   "metadata": {},
   "outputs": [
    {
     "name": "stdout",
     "output_type": "stream",
     "text": [
      "SHAP visualizations saved in shap_visualizations\n",
      "Force plot saved to shap_visualizations/force_plot.html\n",
      "Dependence plot saved to shap_visualizations/dependence_plot_V1.png\n"
     ]
    },
    {
     "data": {
      "text/plain": [
       "<Figure size 800x950 with 0 Axes>"
      ]
     },
     "metadata": {},
     "output_type": "display_data"
    },
    {
     "data": {
      "text/plain": [
       "<Figure size 1200x800 with 0 Axes>"
      ]
     },
     "metadata": {},
     "output_type": "display_data"
    }
   ],
   "source": [
    "if __name__ == \"__main__\":\n",
    "    # Load the best model and the test dataset\n",
    "    best_model = joblib.load('../Models/fraud_detection_xgboost_model.pkl')\n",
    "    X_test = pickle.load(open('../dataset/splits_pkl/X_test.pkl', 'rb'))\n",
    "\n",
    "    # Generate and save SHAP visualizations\n",
    "    shap_values = generate_shap_explanations(best_model, X_test)\n",
    "\n",
    "    # Force Plot for the first sample\n",
    "    X_sample = X_test.iloc[0, :]\n",
    "    generate_force_plot_html(\n",
    "        model=best_model,\n",
    "        X_sample=X_sample,\n",
    "        shap_values=shap_values[0],\n",
    "        output_file=\"shap_visualizations/force_plot.html\"\n",
    "    )\n",
    "\n",
    "    # Dependence Plot for feature \"V1\"\n",
    "    generate_dependence_plot(\n",
    "        feature=\"V1\",\n",
    "        shap_values=shap_values,\n",
    "        X=X_test,\n",
    "        output_file=\"shap_visualizations/dependence_plot_V1.png\"\n",
    "    )"
   ]
  }
 ],
 "metadata": {
  "kernelspec": {
   "display_name": "gpu_env",
   "language": "python",
   "name": "python3"
  },
  "language_info": {
   "codemirror_mode": {
    "name": "ipython",
    "version": 3
   },
   "file_extension": ".py",
   "mimetype": "text/x-python",
   "name": "python",
   "nbconvert_exporter": "python",
   "pygments_lexer": "ipython3",
   "version": "3.9.20"
  }
 },
 "nbformat": 4,
 "nbformat_minor": 2
}
